{
 "cells": [
  {
   "cell_type": "markdown",
   "id": "b794c98b",
   "metadata": {},
   "source": [
    "# IF,Else statement "
   ]
  },
  {
   "cell_type": "code",
   "execution_count": 4,
   "id": "32218796",
   "metadata": {},
   "outputs": [],
   "source": [
    "a=10"
   ]
  },
  {
   "cell_type": "code",
   "execution_count": 12,
   "id": "7c7f9a4a",
   "metadata": {},
   "outputs": [],
   "source": [
    "if a<15:\n",
    "    pass"
   ]
  },
  {
   "cell_type": "code",
   "execution_count": 10,
   "id": "b10c2238",
   "metadata": {},
   "outputs": [
    {
     "data": {
      "text/plain": [
       "True"
      ]
     },
     "execution_count": 10,
     "metadata": {},
     "output_type": "execute_result"
    }
   ],
   "source": [
    "a<15"
   ]
  },
  {
   "cell_type": "code",
   "execution_count": 13,
   "id": "3658de5b",
   "metadata": {},
   "outputs": [
    {
     "name": "stdout",
     "output_type": "stream",
     "text": [
      "my name is sardar\n"
     ]
    }
   ],
   "source": [
    "if a<15:\n",
    "    print(\"my name is sardar\")"
   ]
  },
  {
   "cell_type": "code",
   "execution_count": 25,
   "id": "222cd4be",
   "metadata": {},
   "outputs": [
    {
     "name": "stdout",
     "output_type": "stream",
     "text": [
      "khan\n"
     ]
    }
   ],
   "source": [
    "if 24<15:\n",
    "    print(\"my name is sardar\")\n",
    "else:\n",
    "     print(\"khan\")\n",
    "    \n",
    "       "
   ]
  },
  {
   "cell_type": "code",
   "execution_count": 20,
   "id": "db619efb",
   "metadata": {},
   "outputs": [
    {
     "data": {
      "text/plain": [
       "False"
      ]
     },
     "execution_count": 20,
     "metadata": {},
     "output_type": "execute_result"
    }
   ],
   "source": [
    "24<15"
   ]
  },
  {
   "cell_type": "code",
   "execution_count": 24,
   "id": "208f2e2e",
   "metadata": {},
   "outputs": [
    {
     "name": "stdout",
     "output_type": "stream",
     "text": [
      "if statement is wrong\n"
     ]
    }
   ],
   "source": [
    "if 10<3:\n",
    "    print(\"10 is lesser than 3\")\n",
    "else:\n",
    "    print(\"if statement is wrong\")"
   ]
  },
  {
   "cell_type": "code",
   "execution_count": 28,
   "id": "515306a1",
   "metadata": {},
   "outputs": [
    {
     "name": "stdout",
     "output_type": "stream",
     "text": [
      "5 is lesser than 10\n"
     ]
    }
   ],
   "source": [
    "if 5<10:\n",
    "    print(\"5 is lesser than 10\")\n",
    "else:\n",
    "    print(\"hello\")"
   ]
  },
  {
   "cell_type": "code",
   "execution_count": 4,
   "id": "6dd46cfd",
   "metadata": {},
   "outputs": [
    {
     "name": "stdout",
     "output_type": "stream",
     "text": [
      "70\n",
      "i will be able to rent ahouse\n"
     ]
    }
   ],
   "source": [
    "income=int(input())\n",
    "if income<50:\n",
    "    print(\"i will be ale to buy a phpne\")\n",
    "elif income<70:\n",
    "    print(\"i will be able to buuy a car\")\n",
    "elif income<90:\n",
    "    print(\"i will be able to rent ahouse\")\n",
    "else:\n",
    "    print(\"i wont be able to buy anything\")"
   ]
  },
  {
   "cell_type": "code",
   "execution_count": 120,
   "id": "0af79dcd",
   "metadata": {},
   "outputs": [
    {
     "name": "stdout",
     "output_type": "stream",
     "text": [
      "21000\n",
      "discount will be  4200.0\n"
     ]
    }
   ],
   "source": [
    "Total_price=int(input())\n",
    "if Total_price>20000:\n",
    "    discount=Total_price*.20\n",
    "    print(\"discount will be \",discount) \n",
    "elif Total_price<=7000:\n",
    "        discount=Total_price*.05\n",
    "else:\n",
    "    print(\"wont be able to give you any discount\")\n",
    "    "
   ]
  },
  {
   "cell_type": "code",
   "execution_count": 122,
   "id": "fa51c95f",
   "metadata": {},
   "outputs": [
    {
     "name": "stdout",
     "output_type": "stream",
     "text": [
      "noman54\n",
      "kindly use a valid coupoun code\n"
     ]
    }
   ],
   "source": [
    "coup=input()\n",
    "if coup==\"sardar54\":\n",
    "    print(\"you willbe able to get a discpint of 5%\")\n",
    "    paid_amount=7080-7080*.05\n",
    "    print(\"you will be able to get one neuron with this amoun\",paid_amount)\n",
    "else:\n",
    "    print(\"kindly use a valid coupoun code\")"
   ]
  },
  {
   "cell_type": "code",
   "execution_count": 126,
   "id": "c84a6e0e",
   "metadata": {},
   "outputs": [
    {
     "name": "stdout",
     "output_type": "stream",
     "text": [
      "24\n",
      "it will take 3 monthds of time for transito\n"
     ]
    }
   ],
   "source": [
    "study_hour=int(input())\n",
    "if study_hour<1:\n",
    "    print(\"it may take 8-9 month of time to make a transitom\")\n",
    "elif study_hour<4 and study_hour>1:\n",
    "    print(\"it may take 6 month for transition\")\n",
    "elif study_hour>10:\n",
    "    print(\"it will take 3 monthds of time for transito\")\n",
    "else:\n",
    "    print(\"it wil difficult\")"
   ]
  },
  {
   "cell_type": "code",
   "execution_count": 10,
   "id": "b8a32b43",
   "metadata": {},
   "outputs": [
    {
     "name": "stdout",
     "output_type": "stream",
     "text": [
      "valid\n"
     ]
    }
   ],
   "source": [
    "a=9\n",
    "if a==9:\n",
    "    print(\"valid\")"
   ]
  },
  {
   "cell_type": "code",
   "execution_count": 129,
   "id": "c964957e",
   "metadata": {},
   "outputs": [
    {
     "name": "stdout",
     "output_type": "stream",
     "text": [
      "enter a string to stratoneneuron\n",
      "enter a codeFSDS\n",
      "enter a service namedoubt\n",
      "yes it is available you can start lerning\n"
     ]
    }
   ],
   "source": [
    "s=input(\"enter a string to strat\")\n",
    "course=input(\"enter a code\")\n",
    "service=input(\"enter a service name\")\n",
    "if s==\"oneneuron\":\n",
    "    if course==\"AWS\":\n",
    "        print(\"yes its avaible under one neuron in multiple moe for job preperation for core concept \")\n",
    "    elif course==\"Blockchain\":\n",
    "        print(\"this is not avaible as of now\")\n",
    "    elif course==\"FSDS\":\n",
    "        print(\"yes it is available you can start lerning\")\n",
    "    else:\n",
    "        print(\"this cpourse is not available raise your demand\")\n",
    "elif s==\"oneneuronservices\":\n",
    "        if service==\"courserequest\":\n",
    "            print(\"raise your demads\")\n",
    "        elif service==\"module\":\n",
    "            print(\"raise your demand\")\n",
    "        elif service==\"doubt\":\n",
    "            print(\"ghjfffy\")\n",
    "        else:\n",
    "            print(\"kindly provide us your feedback and we wiil fullfill\")\n",
    "else:\n",
    "    print(\"kindly connect with our team\")"
   ]
  },
  {
   "cell_type": "code",
   "execution_count": 20,
   "id": "cf0adb1c",
   "metadata": {},
   "outputs": [
    {
     "name": "stdout",
     "output_type": "stream",
     "text": [
      "oneneuron\n",
      "BCT\n",
      "onenuronservice\n",
      "Please select something\n"
     ]
    }
   ],
   "source": [
    "s = input()\n",
    "course = input()\n",
    "service = input()\n",
    "if s == \"onenueron\":\n",
    "    if course == \"DSA\":\n",
    "        print(\"Welcome to dsa\")\n",
    "    elif course == \"DS\":\n",
    "        print(\"Welcome to data science\")\n",
    "    elif course == (\"BCT\"):\n",
    "        print(\"This is not available now and we will fulfill in 60 days\")\n",
    "    else:\n",
    "        print(\"Not available\")\n",
    "elif s == \"onenueronservice\":\n",
    "    if service == \"course request\":\n",
    "        print(\"we ill fulfill in 30  days\")\n",
    "    else:\n",
    "        print(\"LOL\")\n",
    "else:\n",
    "    print(\"Please select something\")"
   ]
  },
  {
   "cell_type": "markdown",
   "id": "2b931818",
   "metadata": {},
   "source": [
    "# For loop Statement"
   ]
  },
  {
   "cell_type": "code",
   "execution_count": 7,
   "id": "3eb857cc",
   "metadata": {},
   "outputs": [
    {
     "name": "stdout",
     "output_type": "stream",
     "text": [
      "1\n",
      "2\n",
      "3\n",
      "4\n",
      "5\n",
      "6\n",
      "7\n"
     ]
    }
   ],
   "source": [
    "l=[1,2,3,4,5,6,7]\n",
    "for i in l:\n",
    "    print(i)"
   ]
  },
  {
   "cell_type": "code",
   "execution_count": 8,
   "id": "cb1362a2",
   "metadata": {},
   "outputs": [
    {
     "name": "stdout",
     "output_type": "stream",
     "text": [
      "sardar\n"
     ]
    }
   ],
   "source": [
    "l=[\"sardar\"]\n",
    "for i in l :\n",
    "    print(i)"
   ]
  },
  {
   "cell_type": "code",
   "execution_count": 9,
   "id": "4fb1c5ec",
   "metadata": {},
   "outputs": [
    {
     "name": "stdout",
     "output_type": "stream",
     "text": [
      "sardar\n",
      "sardar\n",
      "sardar\n",
      "sardar\n",
      "sardar\n",
      "sardar\n"
     ]
    }
   ],
   "source": [
    "s=\"sardar\"\n",
    "for i in s:\n",
    "    print(s\n",
    ")"
   ]
  },
  {
   "cell_type": "code",
   "execution_count": 10,
   "id": "24e62744",
   "metadata": {},
   "outputs": [
    {
     "name": "stdout",
     "output_type": "stream",
     "text": [
      "s\n",
      "a\n",
      "r\n",
      "d\n",
      "a\n",
      "r\n"
     ]
    }
   ],
   "source": [
    "for i in \"sardar\":\n",
    "    print(i)"
   ]
  },
  {
   "cell_type": "code",
   "execution_count": 11,
   "id": "337b669b",
   "metadata": {},
   "outputs": [],
   "source": [
    "t=(1,2,3,4,5)"
   ]
  },
  {
   "cell_type": "code",
   "execution_count": 12,
   "id": "deed05b0",
   "metadata": {},
   "outputs": [
    {
     "name": "stdout",
     "output_type": "stream",
     "text": [
      "1\n",
      "2\n",
      "3\n",
      "4\n",
      "5\n"
     ]
    }
   ],
   "source": [
    "for i in t:\n",
    "    print(i)"
   ]
  },
  {
   "cell_type": "code",
   "execution_count": 13,
   "id": "c0d4f2ef",
   "metadata": {},
   "outputs": [],
   "source": [
    "l=[1,2,3,4,5.6,4+6j,\"sardar\"]"
   ]
  },
  {
   "cell_type": "code",
   "execution_count": 23,
   "id": "940c840c",
   "metadata": {},
   "outputs": [
    {
     "name": "stdout",
     "output_type": "stream",
     "text": [
      "<class 'int'> type of 1\n",
      "<class 'int'> type of 2\n",
      "<class 'int'> type of 3\n",
      "<class 'int'> type of 4\n",
      "<class 'float'> type of 5.6\n",
      "<class 'complex'> type of (4+6j)\n",
      "<class 'str'> type of sardar\n"
     ]
    }
   ],
   "source": [
    "for i in l:\n",
    "  \n",
    "    print(type(i),\"type of\",i)\n",
    "    \n",
    "   "
   ]
  },
  {
   "cell_type": "code",
   "execution_count": 26,
   "id": "7d74589f",
   "metadata": {},
   "outputs": [
    {
     "name": "stdout",
     "output_type": "stream",
     "text": [
      "3 [1, 2, 3, 4]\n",
      "4 [1, 2, 3, 4]\n",
      "5 [1, 2, 3, 4]\n",
      "6 [1, 2, 3, 4]\n"
     ]
    }
   ],
   "source": [
    "l=[1,2,3,4]\n",
    "for i in l:\n",
    "    print(i+2,l)"
   ]
  },
  {
   "cell_type": "code",
   "execution_count": 30,
   "id": "ebee3109",
   "metadata": {},
   "outputs": [
    {
     "name": "stdout",
     "output_type": "stream",
     "text": [
      "3\n",
      "4\n",
      "36\n",
      "7\n"
     ]
    }
   ],
   "source": [
    "l=[1,2,34,5]\n",
    "l1=[]\n",
    "for i in l:\n",
    "    print(i+2)\n",
    "    l1.append(i+2)"
   ]
  },
  {
   "cell_type": "code",
   "execution_count": 31,
   "id": "9bfc2533",
   "metadata": {},
   "outputs": [
    {
     "data": {
      "text/plain": [
       "[3, 4, 36, 7]"
      ]
     },
     "execution_count": 31,
     "metadata": {},
     "output_type": "execute_result"
    }
   ],
   "source": [
    "l1"
   ]
  },
  {
   "cell_type": "code",
   "execution_count": 44,
   "id": "6f153105",
   "metadata": {},
   "outputs": [],
   "source": [
    "l=[2,34,56,12,\"sardar\",6+8j,[1,2,34,5],(1,23,45,3)]"
   ]
  },
  {
   "cell_type": "code",
   "execution_count": 36,
   "id": "ae726832",
   "metadata": {},
   "outputs": [
    {
     "name": "stdout",
     "output_type": "stream",
     "text": [
      "2\n",
      "34\n",
      "56\n",
      "12\n"
     ]
    }
   ],
   "source": [
    "for i in l:\n",
    "    if type(i)==int:\n",
    "        print(i)"
   ]
  },
  {
   "cell_type": "code",
   "execution_count": 50,
   "id": "4096ff01",
   "metadata": {},
   "outputs": [
    {
     "name": "stdout",
     "output_type": "stream",
     "text": [
      "[1, 2, 34, 5]\n"
     ]
    }
   ],
   "source": [
    "for i in l:\n",
    "    if type(i)==list:\n",
    "            print(i)\n",
    "            for j in i:\n",
    "                if type(j)==str:\n",
    "                    print(j)"
   ]
  },
  {
   "cell_type": "code",
   "execution_count": 41,
   "id": "c475e0f3",
   "metadata": {},
   "outputs": [
    {
     "name": "stdout",
     "output_type": "stream",
     "text": [
      "sardar\n"
     ]
    }
   ],
   "source": [
    "for i in  l:\n",
    "    if type(i)==str:\n",
    "        print(i)"
   ]
  },
  {
   "cell_type": "code",
   "execution_count": 42,
   "id": "fb699b2f",
   "metadata": {},
   "outputs": [
    {
     "data": {
      "text/plain": [
       "complex"
      ]
     },
     "execution_count": 42,
     "metadata": {},
     "output_type": "execute_result"
    }
   ],
   "source": [
    "type(8+7j)"
   ]
  },
  {
   "cell_type": "code",
   "execution_count": 43,
   "id": "4dbf7b40",
   "metadata": {},
   "outputs": [
    {
     "name": "stdout",
     "output_type": "stream",
     "text": [
      "(6+8j)\n"
     ]
    }
   ],
   "source": [
    "for i in l:\n",
    "    if type(i)==complex:\n",
    "        print(i)"
   ]
  },
  {
   "cell_type": "code",
   "execution_count": 45,
   "id": "94709af1",
   "metadata": {},
   "outputs": [
    {
     "name": "stdout",
     "output_type": "stream",
     "text": [
      "(1, 23, 45, 3)\n"
     ]
    }
   ],
   "source": [
    "for i in l:\n",
    "    if type(i)==tuple:\n",
    "        print(i)"
   ]
  },
  {
   "cell_type": "code",
   "execution_count": 60,
   "id": "a9ef2d45",
   "metadata": {},
   "outputs": [
    {
     "ename": "IndentationError",
     "evalue": "expected an indented block (Temp/ipykernel_8216/4140673146.py, line 7)",
     "output_type": "error",
     "traceback": [
      "\u001b[1;36m  File \u001b[1;32m\"C:\\Users\\SARDAR\\AppData\\Local\\Temp/ipykernel_8216/4140673146.py\"\u001b[1;36m, line \u001b[1;32m7\u001b[0m\n\u001b[1;33m    elif type(j)==str:\u001b[0m\n\u001b[1;37m    ^\u001b[0m\n\u001b[1;31mIndentationError\u001b[0m\u001b[1;31m:\u001b[0m expected an indented block\n"
     ]
    }
   ],
   "source": [
    "l=[2,45,78,12,\"sudh\",6+7j,[56,67,78,\"sardardatsdg\"]]\n",
    "for i in l:\n",
    "    if type(i)==str:\n",
    "        print(i)\n",
    "        for j in i:\n",
    "            if type(j)==list:\n",
    "            elif type(j)==str:\n",
    "                print(j)\n",
    "    \n",
    "        \n",
    "         "
   ]
  },
  {
   "cell_type": "code",
   "execution_count": 98,
   "id": "6548e9ff",
   "metadata": {},
   "outputs": [
    {
     "ename": "IndentationError",
     "evalue": "expected an indented block (Temp/ipykernel_8216/1154599178.py, line 7)",
     "output_type": "error",
     "traceback": [
      "\u001b[1;36m  File \u001b[1;32m\"C:\\Users\\SARDAR\\AppData\\Local\\Temp/ipykernel_8216/1154599178.py\"\u001b[1;36m, line \u001b[1;32m7\u001b[0m\n\u001b[1;33m    elif type(j)==int:\u001b[0m\n\u001b[1;37m    ^\u001b[0m\n\u001b[1;31mIndentationError\u001b[0m\u001b[1;31m:\u001b[0m expected an indented block\n"
     ]
    }
   ],
   "source": [
    "l=[2,45,78,12,\"sudh\",6+7j,[56,67,78,\"sardardatsdg\"]]\n",
    "l1=[]\n",
    "for i in l:\n",
    "    if type(i)==int:\n",
    "        print(i)\n",
    "        for j in i:\n",
    "    elif type(j)==int:\n",
    "        l1.append(j**2)\n",
    "        \n",
    "             \n",
    "      \n",
    "    \n",
    "            \n",
    "       "
   ]
  },
  {
   "cell_type": "code",
   "execution_count": 65,
   "id": "b23453ed",
   "metadata": {},
   "outputs": [
    {
     "name": "stdout",
     "output_type": "stream",
     "text": [
      "s\n",
      "u\n",
      "d\n",
      "h\n"
     ]
    }
   ],
   "source": [
    "l=[2,45,78,12,\"sudh\",6+7j,[56,67,78,\"sardardatsdg\"]]\n",
    "for i in l:\n",
    "    if type(i)==str:\n",
    "        for j in i:\n",
    "            print(j)"
   ]
  },
  {
   "cell_type": "code",
   "execution_count": 67,
   "id": "51d9d966",
   "metadata": {},
   "outputs": [
    {
     "name": "stdout",
     "output_type": "stream",
     "text": [
      "4\n",
      "2025\n",
      "6084\n",
      "144\n"
     ]
    }
   ],
   "source": [
    "for i in l:\n",
    "    if type(i)==int:\n",
    "        print(i*i)"
   ]
  },
  {
   "cell_type": "code",
   "execution_count": 73,
   "id": "c195175b",
   "metadata": {},
   "outputs": [
    {
     "data": {
      "text/plain": [
       "[2, 45, 78, 12, 'sudh', (6+7j), [56, 67, 78, 'sardardatsdg']]"
      ]
     },
     "execution_count": 73,
     "metadata": {},
     "output_type": "execute_result"
    }
   ],
   "source": [
    "l\n"
   ]
  },
  {
   "cell_type": "code",
   "execution_count": 75,
   "id": "0f7bfcc8",
   "metadata": {},
   "outputs": [
    {
     "name": "stdout",
     "output_type": "stream",
     "text": [
      "index 0 for an element 2\n",
      "index 1 for an element 45\n",
      "index 2 for an element 78\n",
      "index 3 for an element 12\n",
      "index 4 for an element sudh\n",
      "index 5 for an element (6+7j)\n",
      "index 6 for an element [56, 67, 78, 'sardardatsdg']\n"
     ]
    }
   ],
   "source": [
    "for i in range(len(l)):\n",
    "    print(\"index\",i,\"for an element\",l[i])"
   ]
  },
  {
   "cell_type": "code",
   "execution_count": 76,
   "id": "2b3e82b6",
   "metadata": {},
   "outputs": [
    {
     "name": "stdout",
     "output_type": "stream",
     "text": [
      "(0, 2)\n",
      "(1, 45)\n",
      "(2, 78)\n",
      "(3, 12)\n",
      "(4, 'sudh')\n",
      "(5, (6+7j))\n",
      "(6, [56, 67, 78, 'sardardatsdg'])\n"
     ]
    }
   ],
   "source": [
    "for i in enumerate(l):\n",
    "    print(i)"
   ]
  },
  {
   "cell_type": "code",
   "execution_count": 103,
   "id": "b02cca2c",
   "metadata": {},
   "outputs": [
    {
     "name": "stdout",
     "output_type": "stream",
     "text": [
      "['s']\n",
      "['s', 'u']\n",
      "['s', 'u', 'd']\n",
      "['s', 'u', 'd', 'h']\n"
     ]
    }
   ],
   "source": [
    "for i in l:\n",
    "    if type(i)==str:\n",
    "        l1=[]\n",
    "        for j in i:\n",
    "            l1.append(j)\n",
    "            print(l1)"
   ]
  },
  {
   "cell_type": "code",
   "execution_count": 104,
   "id": "83ad2603",
   "metadata": {},
   "outputs": [
    {
     "data": {
      "text/plain": [
       "['s', 'u', 'd', 'h']"
      ]
     },
     "execution_count": 104,
     "metadata": {},
     "output_type": "execute_result"
    }
   ],
   "source": [
    "l1"
   ]
  },
  {
   "cell_type": "code",
   "execution_count": 105,
   "id": "dbb7faf5",
   "metadata": {},
   "outputs": [],
   "source": [
    "l=[2,45,78,12,\"sudh\",6+7j,[56,67,78,\"sardardatsdg\"]]\n",
    "l1=[]\n",
    "for i in l:\n",
    "    if type(i)==int:\n",
    "        l1.append(i**2)\n",
    "      "
   ]
  },
  {
   "cell_type": "code",
   "execution_count": 92,
   "id": "1f799402",
   "metadata": {},
   "outputs": [
    {
     "data": {
      "text/plain": [
       "[4, 2025, 6084, 144]"
      ]
     },
     "execution_count": 92,
     "metadata": {},
     "output_type": "execute_result"
    }
   ],
   "source": [
    "l1"
   ]
  },
  {
   "cell_type": "code",
   "execution_count": 114,
   "id": "74e06927",
   "metadata": {},
   "outputs": [
    {
     "name": "stdout",
     "output_type": "stream",
     "text": [
      "4\n",
      "[1, 1, 1, 1, 1, 1, 1, 1, 2]\n",
      "90\n",
      "[1, 1, 1, 1, 1, 1, 1, 1, 2, 2]\n",
      "156\n",
      "[1, 1, 1, 1, 1, 1, 1, 1, 2, 2, 2]\n",
      "24\n",
      "[1, 1, 1, 1, 1, 1, 1, 1, 2, 2, 2, 2]\n"
     ]
    }
   ],
   "source": [
    "l=[2,45,78,12,\"sudh\",6+7j,[56,67,78,\"sardardatsdg\"]]\n",
    "for i in l:\n",
    "    if type(i)==int:\n",
    "        l2=[]\n",
    "        print(i*2)\n",
    "        l1.append(1*2)\n",
    "        print(l1)"
   ]
  },
  {
   "cell_type": "code",
   "execution_count": 108,
   "id": "c3cd1620",
   "metadata": {},
   "outputs": [
    {
     "data": {
      "text/plain": [
       "[1, 1, 1, 1]"
      ]
     },
     "execution_count": 108,
     "metadata": {},
     "output_type": "execute_result"
    }
   ],
   "source": [
    "l1"
   ]
  },
  {
   "cell_type": "code",
   "execution_count": null,
   "id": "90b45a45",
   "metadata": {},
   "outputs": [],
   "source": []
  }
 ],
 "metadata": {
  "kernelspec": {
   "display_name": "Python 3 (ipykernel)",
   "language": "python",
   "name": "python3"
  },
  "language_info": {
   "codemirror_mode": {
    "name": "ipython",
    "version": 3
   },
   "file_extension": ".py",
   "mimetype": "text/x-python",
   "name": "python",
   "nbconvert_exporter": "python",
   "pygments_lexer": "ipython3",
   "version": "3.9.7"
  }
 },
 "nbformat": 4,
 "nbformat_minor": 5
}
